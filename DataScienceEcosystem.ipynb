{
 "cells": [
  {
   "cell_type": "markdown",
   "id": "1f153c77-543e-4f92-ac07-973b0d2d06fa",
   "metadata": {},
   "source": [
    "Data Science Tools and Ecosystem"
   ]
  },
  {
   "cell_type": "markdown",
   "id": "e3db006f-fdf0-44cd-8a77-794778304665",
   "metadata": {},
   "source": [
    "In this notebook, Data Science Tools and Ecosystem are summarized.\n",
    "Objectives:\n",
    "List popular languages for Data Science\n",
    "Creating Markdowns \n",
    "Making simple arithmetic calculations "
   ]
  },
  {
   "cell_type": "markdown",
   "id": "add934de-44d0-43b6-ab2e-bf36119bfca6",
   "metadata": {},
   "source": [
    "Some of the popular languages that Data Scientists use are:\n",
    "    1 Python \n",
    "    2 SQL\n",
    "    3 R"
   ]
  },
  {
   "cell_type": "markdown",
   "id": "69e06f04-8dd3-4864-8924-e735af849877",
   "metadata": {},
   "source": [
    "Some of the commonly used libraries used by Data Scientists include:\n",
    "    1 Numpy \n",
    "    2 Pandas \n",
    "    3 Scikit "
   ]
  },
  {
   "cell_type": "markdown",
   "id": "6167e7a7-093a-40ef-b5f1-f92eaa4d4362",
   "metadata": {},
   "source": [
    "Data Science Tools\n",
    "Jupyter \n",
    "Rstudio \n",
    "Spyder \n"
   ]
  },
  {
   "cell_type": "markdown",
   "id": "2ae05cf8-3b0d-43fb-bbd7-6d7b5d0d3943",
   "metadata": {},
   "source": [
    "###Below are a few examples of evaluating arithmetic expressions in Python\n",
    "x = 4 \n",
    "y = 4 \n",
    "Print (x+y)\n"
   ]
  },
  {
   "cell_type": "code",
   "execution_count": 3,
   "id": "492c9554-85bb-41b1-8016-f25e1aba1b7e",
   "metadata": {
    "tags": []
   },
   "outputs": [
    {
     "data": {
      "text/plain": [
       "17"
      ]
     },
     "execution_count": 3,
     "metadata": {},
     "output_type": "execute_result"
    }
   ],
   "source": [
    "#This a simple arithmetic expression to mutiply then add integers\n",
    "(3*4)+5"
   ]
  },
  {
   "cell_type": "code",
   "execution_count": 7,
   "id": "f6bc0142-bf95-45ac-96bc-9b0b483fd9b6",
   "metadata": {
    "tags": []
   },
   "outputs": [
    {
     "name": "stdout",
     "output_type": "stream",
     "text": [
      "3.3333333333333335\n"
     ]
    }
   ],
   "source": [
    "#This will convert 200 minutes to hours by diving by 60\n",
    "minutes = 200 \n",
    "hours = minutes/60 \n",
    "print (hours) \n"
   ]
  },
  {
   "cell_type": "code",
   "execution_count": null,
   "id": "c391c8f8-e7d1-468c-8df8-752df1ddcbb0",
   "metadata": {},
   "outputs": [],
   "source": [
    "## Olivier Fevry "
   ]
  },
  {
   "cell_type": "code",
   "execution_count": null,
   "id": "5065eb05-3e05-4666-a0ff-fd20d7a1ff42",
   "metadata": {},
   "outputs": [],
   "source": []
  }
 ],
 "metadata": {
  "kernelspec": {
   "display_name": "Python",
   "language": "python",
   "name": "conda-env-python-py"
  },
  "language_info": {
   "codemirror_mode": {
    "name": "ipython",
    "version": 3
   },
   "file_extension": ".py",
   "mimetype": "text/x-python",
   "name": "python",
   "nbconvert_exporter": "python",
   "pygments_lexer": "ipython3",
   "version": "3.7.12"
  }
 },
 "nbformat": 4,
 "nbformat_minor": 5
}
